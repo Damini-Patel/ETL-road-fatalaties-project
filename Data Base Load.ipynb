{
 "metadata": {
  "language_info": {
   "codemirror_mode": {
    "name": "ipython",
    "version": 3
   },
   "file_extension": ".py",
   "mimetype": "text/x-python",
   "name": "python",
   "nbconvert_exporter": "python",
   "pygments_lexer": "ipython3",
   "version": "3.8.3-final"
  },
  "orig_nbformat": 2,
  "kernelspec": {
   "name": "python3",
   "display_name": "Python 3.8.3 64-bit (conda)",
   "metadata": {
    "interpreter": {
     "hash": "1967d762c769939a2291d44347683792873ab5f7dbb8a8895d3a32369559e71d"
    }
   }
  }
 },
 "nbformat": 4,
 "nbformat_minor": 2,
 "cells": [
  {
   "cell_type": "code",
   "execution_count": 1,
   "metadata": {},
   "outputs": [],
   "source": [
    "import pandas as pd\n",
    "from sqlalchemy import create_engine"
   ]
  },
  {
   "cell_type": "code",
   "execution_count": 2,
   "metadata": {},
   "outputs": [
    {
     "output_type": "execute_result",
     "data": {
      "text/plain": [
       "   crash_id         road_user age_group\n",
       "0  20215023     Pedal cyclist  40_to_64\n",
       "1  20215024            Driver  40_to_64\n",
       "2  20215004  Motorcycle rider  40_to_64\n",
       "3  20215018  Motorcycle rider  40_to_64\n",
       "4  20215001         Passenger  17_to_25"
      ],
      "text/html": "<div>\n<style scoped>\n    .dataframe tbody tr th:only-of-type {\n        vertical-align: middle;\n    }\n\n    .dataframe tbody tr th {\n        vertical-align: top;\n    }\n\n    .dataframe thead th {\n        text-align: right;\n    }\n</style>\n<table border=\"1\" class=\"dataframe\">\n  <thead>\n    <tr style=\"text-align: right;\">\n      <th></th>\n      <th>crash_id</th>\n      <th>road_user</th>\n      <th>age_group</th>\n    </tr>\n  </thead>\n  <tbody>\n    <tr>\n      <th>0</th>\n      <td>20215023</td>\n      <td>Pedal cyclist</td>\n      <td>40_to_64</td>\n    </tr>\n    <tr>\n      <th>1</th>\n      <td>20215024</td>\n      <td>Driver</td>\n      <td>40_to_64</td>\n    </tr>\n    <tr>\n      <th>2</th>\n      <td>20215004</td>\n      <td>Motorcycle rider</td>\n      <td>40_to_64</td>\n    </tr>\n    <tr>\n      <th>3</th>\n      <td>20215018</td>\n      <td>Motorcycle rider</td>\n      <td>40_to_64</td>\n    </tr>\n    <tr>\n      <th>4</th>\n      <td>20215001</td>\n      <td>Passenger</td>\n      <td>17_to_25</td>\n    </tr>\n  </tbody>\n</table>\n</div>"
     },
     "metadata": {},
     "execution_count": 2
    }
   ],
   "source": [
    "csv_a = \"Resources/fatalaties_wa.csv\"\n",
    "fatalaties = pd.read_csv(csv_a)\n",
    "fatalaties.head()"
   ]
  },
  {
   "cell_type": "code",
   "execution_count": 3,
   "metadata": {},
   "outputs": [
    {
     "output_type": "execute_result",
     "data": {
      "text/plain": [
       "   crash_id state  month  year   dayweek   time  number_fatalities  \\\n",
       "0  20215009    WA      1  2021  Saturday   5:55                  1   \n",
       "1  20215018    WA      1  2021    Sunday  19:31                  1   \n",
       "2  20215007    WA      1  2021    Monday  14:44                  1   \n",
       "3  20215010    WA      1  2021   Tuesday   7:05                  1   \n",
       "4  20215015    WA      1  2021  Saturday  23:08                  1   \n",
       "\n",
       "  bus_involvement heavy_rigid_truck_involvement articulated_truck_involvement  \\\n",
       "0              No                            No                            No   \n",
       "1              No                            No                            No   \n",
       "2              No                            No                            No   \n",
       "3              No                            No                            No   \n",
       "4              No                            No                            No   \n",
       "\n",
       "   speed_limit  \n",
       "0           80  \n",
       "1           50  \n",
       "2            0  \n",
       "3           70  \n",
       "4           60  "
      ],
      "text/html": "<div>\n<style scoped>\n    .dataframe tbody tr th:only-of-type {\n        vertical-align: middle;\n    }\n\n    .dataframe tbody tr th {\n        vertical-align: top;\n    }\n\n    .dataframe thead th {\n        text-align: right;\n    }\n</style>\n<table border=\"1\" class=\"dataframe\">\n  <thead>\n    <tr style=\"text-align: right;\">\n      <th></th>\n      <th>crash_id</th>\n      <th>state</th>\n      <th>month</th>\n      <th>year</th>\n      <th>dayweek</th>\n      <th>time</th>\n      <th>number_fatalities</th>\n      <th>bus_involvement</th>\n      <th>heavy_rigid_truck_involvement</th>\n      <th>articulated_truck_involvement</th>\n      <th>speed_limit</th>\n    </tr>\n  </thead>\n  <tbody>\n    <tr>\n      <th>0</th>\n      <td>20215009</td>\n      <td>WA</td>\n      <td>1</td>\n      <td>2021</td>\n      <td>Saturday</td>\n      <td>5:55</td>\n      <td>1</td>\n      <td>No</td>\n      <td>No</td>\n      <td>No</td>\n      <td>80</td>\n    </tr>\n    <tr>\n      <th>1</th>\n      <td>20215018</td>\n      <td>WA</td>\n      <td>1</td>\n      <td>2021</td>\n      <td>Sunday</td>\n      <td>19:31</td>\n      <td>1</td>\n      <td>No</td>\n      <td>No</td>\n      <td>No</td>\n      <td>50</td>\n    </tr>\n    <tr>\n      <th>2</th>\n      <td>20215007</td>\n      <td>WA</td>\n      <td>1</td>\n      <td>2021</td>\n      <td>Monday</td>\n      <td>14:44</td>\n      <td>1</td>\n      <td>No</td>\n      <td>No</td>\n      <td>No</td>\n      <td>0</td>\n    </tr>\n    <tr>\n      <th>3</th>\n      <td>20215010</td>\n      <td>WA</td>\n      <td>1</td>\n      <td>2021</td>\n      <td>Tuesday</td>\n      <td>7:05</td>\n      <td>1</td>\n      <td>No</td>\n      <td>No</td>\n      <td>No</td>\n      <td>70</td>\n    </tr>\n    <tr>\n      <th>4</th>\n      <td>20215015</td>\n      <td>WA</td>\n      <td>1</td>\n      <td>2021</td>\n      <td>Saturday</td>\n      <td>23:08</td>\n      <td>1</td>\n      <td>No</td>\n      <td>No</td>\n      <td>No</td>\n      <td>60</td>\n    </tr>\n  </tbody>\n</table>\n</div>"
     },
     "metadata": {},
     "execution_count": 3
    }
   ],
   "source": [
    "csv_b = \"Resources/fatalcrash_wa.csv\"\n",
    "fatal_crash = pd.read_csv(csv_b)\n",
    "fatal_crash.head()"
   ]
  },
  {
   "cell_type": "code",
   "execution_count": null,
   "metadata": {},
   "outputs": [],
   "source": []
  },
  {
   "cell_type": "code",
   "execution_count": 4,
   "metadata": {},
   "outputs": [],
   "source": [
    "# connect to database\n",
    "\n",
    "connection_string = \"postgres:6186@localhost:5432/Road_Fatalaties\"\n",
    "engine = create_engine(f'postgresql://{connection_string}')"
   ]
  },
  {
   "cell_type": "code",
   "execution_count": 5,
   "metadata": {},
   "outputs": [
    {
     "output_type": "execute_result",
     "data": {
      "text/plain": [
       "['fatalaties', 'crashes']"
      ]
     },
     "metadata": {},
     "execution_count": 5
    }
   ],
   "source": [
    "# confirm tables\n",
    "\n",
    "engine.table_names()\n"
   ]
  },
  {
   "cell_type": "code",
   "execution_count": 7,
   "metadata": {},
   "outputs": [],
   "source": [
    "# use pandas to load dataframe to database\n",
    "\n",
    "fatalaties.to_sql(name='fatalaties', con=engine, if_exists='append', index=False)\n",
    "fatal_crash.to_sql(name='crashes', con=engine, if_exists='append', index=False)"
   ]
  },
  {
   "cell_type": "code",
   "execution_count": 8,
   "metadata": {},
   "outputs": [
    {
     "output_type": "execute_result",
     "data": {
      "text/plain": [
       "   id  crash_id         road_user age_group\n",
       "0   1  20215023     Pedal cyclist  40_to_64\n",
       "1   2  20215024            Driver  40_to_64\n",
       "2   3  20215004  Motorcycle rider  40_to_64\n",
       "3   4  20215018  Motorcycle rider  40_to_64\n",
       "4   5  20215001         Passenger  17_to_25"
      ],
      "text/html": "<div>\n<style scoped>\n    .dataframe tbody tr th:only-of-type {\n        vertical-align: middle;\n    }\n\n    .dataframe tbody tr th {\n        vertical-align: top;\n    }\n\n    .dataframe thead th {\n        text-align: right;\n    }\n</style>\n<table border=\"1\" class=\"dataframe\">\n  <thead>\n    <tr style=\"text-align: right;\">\n      <th></th>\n      <th>id</th>\n      <th>crash_id</th>\n      <th>road_user</th>\n      <th>age_group</th>\n    </tr>\n  </thead>\n  <tbody>\n    <tr>\n      <th>0</th>\n      <td>1</td>\n      <td>20215023</td>\n      <td>Pedal cyclist</td>\n      <td>40_to_64</td>\n    </tr>\n    <tr>\n      <th>1</th>\n      <td>2</td>\n      <td>20215024</td>\n      <td>Driver</td>\n      <td>40_to_64</td>\n    </tr>\n    <tr>\n      <th>2</th>\n      <td>3</td>\n      <td>20215004</td>\n      <td>Motorcycle rider</td>\n      <td>40_to_64</td>\n    </tr>\n    <tr>\n      <th>3</th>\n      <td>4</td>\n      <td>20215018</td>\n      <td>Motorcycle rider</td>\n      <td>40_to_64</td>\n    </tr>\n    <tr>\n      <th>4</th>\n      <td>5</td>\n      <td>20215001</td>\n      <td>Passenger</td>\n      <td>17_to_25</td>\n    </tr>\n  </tbody>\n</table>\n</div>"
     },
     "metadata": {},
     "execution_count": 8
    }
   ],
   "source": [
    "pd.read_sql_query('select * from fatalaties', con=engine).head()"
   ]
  },
  {
   "cell_type": "code",
   "execution_count": 9,
   "metadata": {},
   "outputs": [
    {
     "output_type": "execute_result",
     "data": {
      "text/plain": [
       "   id  crash_id state month  year   dayweek   time  number_fatalities  \\\n",
       "0   1  20215009    WA     1  2021  Saturday   5:55                  1   \n",
       "1   2  20215018    WA     1  2021    Sunday  19:31                  1   \n",
       "2   3  20215007    WA     1  2021    Monday  14:44                  1   \n",
       "3   4  20215010    WA     1  2021   Tuesday   7:05                  1   \n",
       "4   5  20215015    WA     1  2021  Saturday  23:08                  1   \n",
       "\n",
       "  bus_involvement heavy_rigid_truck_involvement articulated_truck_involvement  \\\n",
       "0              No                            No                            No   \n",
       "1              No                            No                            No   \n",
       "2              No                            No                            No   \n",
       "3              No                            No                            No   \n",
       "4              No                            No                            No   \n",
       "\n",
       "   speed_limit  \n",
       "0           80  \n",
       "1           50  \n",
       "2            0  \n",
       "3           70  \n",
       "4           60  "
      ],
      "text/html": "<div>\n<style scoped>\n    .dataframe tbody tr th:only-of-type {\n        vertical-align: middle;\n    }\n\n    .dataframe tbody tr th {\n        vertical-align: top;\n    }\n\n    .dataframe thead th {\n        text-align: right;\n    }\n</style>\n<table border=\"1\" class=\"dataframe\">\n  <thead>\n    <tr style=\"text-align: right;\">\n      <th></th>\n      <th>id</th>\n      <th>crash_id</th>\n      <th>state</th>\n      <th>month</th>\n      <th>year</th>\n      <th>dayweek</th>\n      <th>time</th>\n      <th>number_fatalities</th>\n      <th>bus_involvement</th>\n      <th>heavy_rigid_truck_involvement</th>\n      <th>articulated_truck_involvement</th>\n      <th>speed_limit</th>\n    </tr>\n  </thead>\n  <tbody>\n    <tr>\n      <th>0</th>\n      <td>1</td>\n      <td>20215009</td>\n      <td>WA</td>\n      <td>1</td>\n      <td>2021</td>\n      <td>Saturday</td>\n      <td>5:55</td>\n      <td>1</td>\n      <td>No</td>\n      <td>No</td>\n      <td>No</td>\n      <td>80</td>\n    </tr>\n    <tr>\n      <th>1</th>\n      <td>2</td>\n      <td>20215018</td>\n      <td>WA</td>\n      <td>1</td>\n      <td>2021</td>\n      <td>Sunday</td>\n      <td>19:31</td>\n      <td>1</td>\n      <td>No</td>\n      <td>No</td>\n      <td>No</td>\n      <td>50</td>\n    </tr>\n    <tr>\n      <th>2</th>\n      <td>3</td>\n      <td>20215007</td>\n      <td>WA</td>\n      <td>1</td>\n      <td>2021</td>\n      <td>Monday</td>\n      <td>14:44</td>\n      <td>1</td>\n      <td>No</td>\n      <td>No</td>\n      <td>No</td>\n      <td>0</td>\n    </tr>\n    <tr>\n      <th>3</th>\n      <td>4</td>\n      <td>20215010</td>\n      <td>WA</td>\n      <td>1</td>\n      <td>2021</td>\n      <td>Tuesday</td>\n      <td>7:05</td>\n      <td>1</td>\n      <td>No</td>\n      <td>No</td>\n      <td>No</td>\n      <td>70</td>\n    </tr>\n    <tr>\n      <th>4</th>\n      <td>5</td>\n      <td>20215015</td>\n      <td>WA</td>\n      <td>1</td>\n      <td>2021</td>\n      <td>Saturday</td>\n      <td>23:08</td>\n      <td>1</td>\n      <td>No</td>\n      <td>No</td>\n      <td>No</td>\n      <td>60</td>\n    </tr>\n  </tbody>\n</table>\n</div>"
     },
     "metadata": {},
     "execution_count": 9
    }
   ],
   "source": [
    "pd.read_sql_query('select * from crashes', con=engine).head()"
   ]
  },
  {
   "cell_type": "code",
   "execution_count": null,
   "metadata": {},
   "outputs": [],
   "source": []
  }
 ]
}