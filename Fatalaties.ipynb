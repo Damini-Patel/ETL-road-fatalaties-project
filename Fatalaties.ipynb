{
 "metadata": {
  "language_info": {
   "codemirror_mode": {
    "name": "ipython",
    "version": 3
   },
   "file_extension": ".py",
   "mimetype": "text/x-python",
   "name": "python",
   "nbconvert_exporter": "python",
   "pygments_lexer": "ipython3",
   "version": "3.8.3-final"
  },
  "orig_nbformat": 2,
  "kernelspec": {
   "name": "python3",
   "display_name": "Python 3.8.3 64-bit (conda)",
   "metadata": {
    "interpreter": {
     "hash": "1967d762c769939a2291d44347683792873ab5f7dbb8a8895d3a32369559e71d"
    }
   }
  }
 },
 "nbformat": 4,
 "nbformat_minor": 2,
 "cells": [
  {
   "cell_type": "code",
   "execution_count": 12,
   "metadata": {},
   "outputs": [],
   "source": [
    "import pandas as pd\n",
    "from sqlalchemy import create_engine"
   ]
  },
  {
   "cell_type": "code",
   "execution_count": 13,
   "metadata": {},
   "outputs": [
    {
     "output_type": "execute_result",
     "data": {
      "text/plain": [
       "   Crash ID State  Month  Year Dayweek   Time Crash Type Bus Involvement  \\\n",
       "0  20215023    WA      1  2021  Sunday  19:16   Multiple              No   \n",
       "1  20215024    WA      1  2021  Sunday   6:10   Multiple              No   \n",
       "2  20215004    WA      1  2021  Sunday  17:29   Multiple              No   \n",
       "3  20211007   NSW      1  2021  Sunday   8:49   Multiple              No   \n",
       "4  20215018    WA      1  2021  Sunday  19:31     Single              No   \n",
       "\n",
       "  Heavy Rigid Truck Involvement Articulated Truck Involvement  ... Age  \\\n",
       "0                            No                            No  ...  52   \n",
       "1                            No                            No  ...  61   \n",
       "2                            No                            No  ...  61   \n",
       "3                            No                            No  ...  29   \n",
       "4                            No                            No  ...  46   \n",
       "\n",
       "   National Remoteness Areas  SA4 Name 2016  National LGA Name 2017  \\\n",
       "0                        NaN            NaN                     NaN   \n",
       "1                        NaN            NaN                     NaN   \n",
       "2                        NaN            NaN                     NaN   \n",
       "3  Major Cities of Australia  Sydney - Ryde              Parramatta   \n",
       "4                        NaN            NaN                     NaN   \n",
       "\n",
       "  National Road Type Christmas Period Easter Period Age Group Day of week  \\\n",
       "0                NaN              Yes            No  40_to_64     Weekend   \n",
       "1                NaN               No            No  40_to_64     Weekend   \n",
       "2                NaN               No            No  40_to_64     Weekend   \n",
       "3      Arterial Road               No            No  26_to_39     Weekend   \n",
       "4                NaN               No            No  40_to_64     Weekend   \n",
       "\n",
       "  Time of day  \n",
       "0       Night  \n",
       "1         Day  \n",
       "2         Day  \n",
       "3         Day  \n",
       "4       Night  \n",
       "\n",
       "[5 rows x 23 columns]"
      ],
      "text/html": "<div>\n<style scoped>\n    .dataframe tbody tr th:only-of-type {\n        vertical-align: middle;\n    }\n\n    .dataframe tbody tr th {\n        vertical-align: top;\n    }\n\n    .dataframe thead th {\n        text-align: right;\n    }\n</style>\n<table border=\"1\" class=\"dataframe\">\n  <thead>\n    <tr style=\"text-align: right;\">\n      <th></th>\n      <th>Crash ID</th>\n      <th>State</th>\n      <th>Month</th>\n      <th>Year</th>\n      <th>Dayweek</th>\n      <th>Time</th>\n      <th>Crash Type</th>\n      <th>Bus Involvement</th>\n      <th>Heavy Rigid Truck Involvement</th>\n      <th>Articulated Truck Involvement</th>\n      <th>...</th>\n      <th>Age</th>\n      <th>National Remoteness Areas</th>\n      <th>SA4 Name 2016</th>\n      <th>National LGA Name 2017</th>\n      <th>National Road Type</th>\n      <th>Christmas Period</th>\n      <th>Easter Period</th>\n      <th>Age Group</th>\n      <th>Day of week</th>\n      <th>Time of day</th>\n    </tr>\n  </thead>\n  <tbody>\n    <tr>\n      <th>0</th>\n      <td>20215023</td>\n      <td>WA</td>\n      <td>1</td>\n      <td>2021</td>\n      <td>Sunday</td>\n      <td>19:16</td>\n      <td>Multiple</td>\n      <td>No</td>\n      <td>No</td>\n      <td>No</td>\n      <td>...</td>\n      <td>52</td>\n      <td>NaN</td>\n      <td>NaN</td>\n      <td>NaN</td>\n      <td>NaN</td>\n      <td>Yes</td>\n      <td>No</td>\n      <td>40_to_64</td>\n      <td>Weekend</td>\n      <td>Night</td>\n    </tr>\n    <tr>\n      <th>1</th>\n      <td>20215024</td>\n      <td>WA</td>\n      <td>1</td>\n      <td>2021</td>\n      <td>Sunday</td>\n      <td>6:10</td>\n      <td>Multiple</td>\n      <td>No</td>\n      <td>No</td>\n      <td>No</td>\n      <td>...</td>\n      <td>61</td>\n      <td>NaN</td>\n      <td>NaN</td>\n      <td>NaN</td>\n      <td>NaN</td>\n      <td>No</td>\n      <td>No</td>\n      <td>40_to_64</td>\n      <td>Weekend</td>\n      <td>Day</td>\n    </tr>\n    <tr>\n      <th>2</th>\n      <td>20215004</td>\n      <td>WA</td>\n      <td>1</td>\n      <td>2021</td>\n      <td>Sunday</td>\n      <td>17:29</td>\n      <td>Multiple</td>\n      <td>No</td>\n      <td>No</td>\n      <td>No</td>\n      <td>...</td>\n      <td>61</td>\n      <td>NaN</td>\n      <td>NaN</td>\n      <td>NaN</td>\n      <td>NaN</td>\n      <td>No</td>\n      <td>No</td>\n      <td>40_to_64</td>\n      <td>Weekend</td>\n      <td>Day</td>\n    </tr>\n    <tr>\n      <th>3</th>\n      <td>20211007</td>\n      <td>NSW</td>\n      <td>1</td>\n      <td>2021</td>\n      <td>Sunday</td>\n      <td>8:49</td>\n      <td>Multiple</td>\n      <td>No</td>\n      <td>No</td>\n      <td>No</td>\n      <td>...</td>\n      <td>29</td>\n      <td>Major Cities of Australia</td>\n      <td>Sydney - Ryde</td>\n      <td>Parramatta</td>\n      <td>Arterial Road</td>\n      <td>No</td>\n      <td>No</td>\n      <td>26_to_39</td>\n      <td>Weekend</td>\n      <td>Day</td>\n    </tr>\n    <tr>\n      <th>4</th>\n      <td>20215018</td>\n      <td>WA</td>\n      <td>1</td>\n      <td>2021</td>\n      <td>Sunday</td>\n      <td>19:31</td>\n      <td>Single</td>\n      <td>No</td>\n      <td>No</td>\n      <td>No</td>\n      <td>...</td>\n      <td>46</td>\n      <td>NaN</td>\n      <td>NaN</td>\n      <td>NaN</td>\n      <td>NaN</td>\n      <td>No</td>\n      <td>No</td>\n      <td>40_to_64</td>\n      <td>Weekend</td>\n      <td>Night</td>\n    </tr>\n  </tbody>\n</table>\n<p>5 rows × 23 columns</p>\n</div>"
     },
     "metadata": {},
     "execution_count": 13
    }
   ],
   "source": [
    "# import CSV into Dataframe\n",
    "\n",
    "csv_file = \"Resources/ardd_fatalities_jan2021_csv.csv\"\n",
    "fatalaties_df = pd.read_csv(csv_file)\n",
    "fatalaties_df.head()"
   ]
  },
  {
   "cell_type": "code",
   "execution_count": 14,
   "metadata": {},
   "outputs": [
    {
     "output_type": "execute_result",
     "data": {
      "text/plain": [
       "       Crash ID State  Month  Year    Dayweek   Time Crash Type  \\\n",
       "0      20215023    WA      1  2021     Sunday  19:16   Multiple   \n",
       "1      20215024    WA      1  2021     Sunday   6:10   Multiple   \n",
       "2      20215004    WA      1  2021     Sunday  17:29   Multiple   \n",
       "4      20215018    WA      1  2021     Sunday  19:31     Single   \n",
       "5      20215001    WA      1  2021     Sunday  15:05     Single   \n",
       "...         ...   ...    ...   ...        ...    ...        ...   \n",
       "52102  19895207    WA      1  1989    Tuesday   0:30     Single   \n",
       "52103  19895133    WA      1  1989  Wednesday  21:00   Multiple   \n",
       "52108  19895088    WA      1  1989     Monday   6:00     Single   \n",
       "52109  19895088    WA      1  1989     Monday   6:00     Single   \n",
       "52110  19895088    WA      1  1989     Monday   6:00     Single   \n",
       "\n",
       "      Bus Involvement Heavy Rigid Truck Involvement  \\\n",
       "0                  No                            No   \n",
       "1                  No                            No   \n",
       "2                  No                            No   \n",
       "4                  No                            No   \n",
       "5                  No                            No   \n",
       "...               ...                           ...   \n",
       "52102              No                            -9   \n",
       "52103              No                            -9   \n",
       "52108              No                            -9   \n",
       "52109              No                            -9   \n",
       "52110              No                            -9   \n",
       "\n",
       "      Articulated Truck Involvement  ... Age National Remoteness Areas  \\\n",
       "0                                No  ...  52                       NaN   \n",
       "1                                No  ...  61                       NaN   \n",
       "2                                No  ...  61                       NaN   \n",
       "4                                No  ...  46                       NaN   \n",
       "5                                No  ...  17                       NaN   \n",
       "...                             ...  ...  ..                       ...   \n",
       "52102                            No  ...  46                       NaN   \n",
       "52103                            No  ...  70                       NaN   \n",
       "52108                            No  ...  19                       NaN   \n",
       "52109                            No  ...  17                       NaN   \n",
       "52110                            No  ...  17                       NaN   \n",
       "\n",
       "      SA4 Name 2016  National LGA Name 2017 National Road Type  \\\n",
       "0               NaN                     NaN                NaN   \n",
       "1               NaN                     NaN                NaN   \n",
       "2               NaN                     NaN                NaN   \n",
       "4               NaN                     NaN                NaN   \n",
       "5               NaN                     NaN                NaN   \n",
       "...             ...                     ...                ...   \n",
       "52102           NaN                     NaN                NaN   \n",
       "52103           NaN                     NaN                NaN   \n",
       "52108           NaN                     NaN                NaN   \n",
       "52109           NaN                     NaN                NaN   \n",
       "52110           NaN                     NaN                NaN   \n",
       "\n",
       "      Christmas Period Easter Period Age Group Day of week Time of day  \n",
       "0                  Yes            No  40_to_64     Weekend       Night  \n",
       "1                   No            No  40_to_64     Weekend         Day  \n",
       "2                   No            No  40_to_64     Weekend         Day  \n",
       "4                   No            No  40_to_64     Weekend       Night  \n",
       "5                   No            No  17_to_25     Weekend         Day  \n",
       "...                ...           ...       ...         ...         ...  \n",
       "52102               No            No  40_to_64     Weekday       Night  \n",
       "52103               No            No  65_to_74     Weekday       Night  \n",
       "52108              Yes            No  17_to_25     Weekday         Day  \n",
       "52109              Yes            No  17_to_25     Weekday         Day  \n",
       "52110              Yes            No  17_to_25     Weekday         Day  \n",
       "\n",
       "[6178 rows x 23 columns]"
      ],
      "text/html": "<div>\n<style scoped>\n    .dataframe tbody tr th:only-of-type {\n        vertical-align: middle;\n    }\n\n    .dataframe tbody tr th {\n        vertical-align: top;\n    }\n\n    .dataframe thead th {\n        text-align: right;\n    }\n</style>\n<table border=\"1\" class=\"dataframe\">\n  <thead>\n    <tr style=\"text-align: right;\">\n      <th></th>\n      <th>Crash ID</th>\n      <th>State</th>\n      <th>Month</th>\n      <th>Year</th>\n      <th>Dayweek</th>\n      <th>Time</th>\n      <th>Crash Type</th>\n      <th>Bus Involvement</th>\n      <th>Heavy Rigid Truck Involvement</th>\n      <th>Articulated Truck Involvement</th>\n      <th>...</th>\n      <th>Age</th>\n      <th>National Remoteness Areas</th>\n      <th>SA4 Name 2016</th>\n      <th>National LGA Name 2017</th>\n      <th>National Road Type</th>\n      <th>Christmas Period</th>\n      <th>Easter Period</th>\n      <th>Age Group</th>\n      <th>Day of week</th>\n      <th>Time of day</th>\n    </tr>\n  </thead>\n  <tbody>\n    <tr>\n      <th>0</th>\n      <td>20215023</td>\n      <td>WA</td>\n      <td>1</td>\n      <td>2021</td>\n      <td>Sunday</td>\n      <td>19:16</td>\n      <td>Multiple</td>\n      <td>No</td>\n      <td>No</td>\n      <td>No</td>\n      <td>...</td>\n      <td>52</td>\n      <td>NaN</td>\n      <td>NaN</td>\n      <td>NaN</td>\n      <td>NaN</td>\n      <td>Yes</td>\n      <td>No</td>\n      <td>40_to_64</td>\n      <td>Weekend</td>\n      <td>Night</td>\n    </tr>\n    <tr>\n      <th>1</th>\n      <td>20215024</td>\n      <td>WA</td>\n      <td>1</td>\n      <td>2021</td>\n      <td>Sunday</td>\n      <td>6:10</td>\n      <td>Multiple</td>\n      <td>No</td>\n      <td>No</td>\n      <td>No</td>\n      <td>...</td>\n      <td>61</td>\n      <td>NaN</td>\n      <td>NaN</td>\n      <td>NaN</td>\n      <td>NaN</td>\n      <td>No</td>\n      <td>No</td>\n      <td>40_to_64</td>\n      <td>Weekend</td>\n      <td>Day</td>\n    </tr>\n    <tr>\n      <th>2</th>\n      <td>20215004</td>\n      <td>WA</td>\n      <td>1</td>\n      <td>2021</td>\n      <td>Sunday</td>\n      <td>17:29</td>\n      <td>Multiple</td>\n      <td>No</td>\n      <td>No</td>\n      <td>No</td>\n      <td>...</td>\n      <td>61</td>\n      <td>NaN</td>\n      <td>NaN</td>\n      <td>NaN</td>\n      <td>NaN</td>\n      <td>No</td>\n      <td>No</td>\n      <td>40_to_64</td>\n      <td>Weekend</td>\n      <td>Day</td>\n    </tr>\n    <tr>\n      <th>4</th>\n      <td>20215018</td>\n      <td>WA</td>\n      <td>1</td>\n      <td>2021</td>\n      <td>Sunday</td>\n      <td>19:31</td>\n      <td>Single</td>\n      <td>No</td>\n      <td>No</td>\n      <td>No</td>\n      <td>...</td>\n      <td>46</td>\n      <td>NaN</td>\n      <td>NaN</td>\n      <td>NaN</td>\n      <td>NaN</td>\n      <td>No</td>\n      <td>No</td>\n      <td>40_to_64</td>\n      <td>Weekend</td>\n      <td>Night</td>\n    </tr>\n    <tr>\n      <th>5</th>\n      <td>20215001</td>\n      <td>WA</td>\n      <td>1</td>\n      <td>2021</td>\n      <td>Sunday</td>\n      <td>15:05</td>\n      <td>Single</td>\n      <td>No</td>\n      <td>No</td>\n      <td>No</td>\n      <td>...</td>\n      <td>17</td>\n      <td>NaN</td>\n      <td>NaN</td>\n      <td>NaN</td>\n      <td>NaN</td>\n      <td>No</td>\n      <td>No</td>\n      <td>17_to_25</td>\n      <td>Weekend</td>\n      <td>Day</td>\n    </tr>\n    <tr>\n      <th>...</th>\n      <td>...</td>\n      <td>...</td>\n      <td>...</td>\n      <td>...</td>\n      <td>...</td>\n      <td>...</td>\n      <td>...</td>\n      <td>...</td>\n      <td>...</td>\n      <td>...</td>\n      <td>...</td>\n      <td>...</td>\n      <td>...</td>\n      <td>...</td>\n      <td>...</td>\n      <td>...</td>\n      <td>...</td>\n      <td>...</td>\n      <td>...</td>\n      <td>...</td>\n      <td>...</td>\n    </tr>\n    <tr>\n      <th>52102</th>\n      <td>19895207</td>\n      <td>WA</td>\n      <td>1</td>\n      <td>1989</td>\n      <td>Tuesday</td>\n      <td>0:30</td>\n      <td>Single</td>\n      <td>No</td>\n      <td>-9</td>\n      <td>No</td>\n      <td>...</td>\n      <td>46</td>\n      <td>NaN</td>\n      <td>NaN</td>\n      <td>NaN</td>\n      <td>NaN</td>\n      <td>No</td>\n      <td>No</td>\n      <td>40_to_64</td>\n      <td>Weekday</td>\n      <td>Night</td>\n    </tr>\n    <tr>\n      <th>52103</th>\n      <td>19895133</td>\n      <td>WA</td>\n      <td>1</td>\n      <td>1989</td>\n      <td>Wednesday</td>\n      <td>21:00</td>\n      <td>Multiple</td>\n      <td>No</td>\n      <td>-9</td>\n      <td>No</td>\n      <td>...</td>\n      <td>70</td>\n      <td>NaN</td>\n      <td>NaN</td>\n      <td>NaN</td>\n      <td>NaN</td>\n      <td>No</td>\n      <td>No</td>\n      <td>65_to_74</td>\n      <td>Weekday</td>\n      <td>Night</td>\n    </tr>\n    <tr>\n      <th>52108</th>\n      <td>19895088</td>\n      <td>WA</td>\n      <td>1</td>\n      <td>1989</td>\n      <td>Monday</td>\n      <td>6:00</td>\n      <td>Single</td>\n      <td>No</td>\n      <td>-9</td>\n      <td>No</td>\n      <td>...</td>\n      <td>19</td>\n      <td>NaN</td>\n      <td>NaN</td>\n      <td>NaN</td>\n      <td>NaN</td>\n      <td>Yes</td>\n      <td>No</td>\n      <td>17_to_25</td>\n      <td>Weekday</td>\n      <td>Day</td>\n    </tr>\n    <tr>\n      <th>52109</th>\n      <td>19895088</td>\n      <td>WA</td>\n      <td>1</td>\n      <td>1989</td>\n      <td>Monday</td>\n      <td>6:00</td>\n      <td>Single</td>\n      <td>No</td>\n      <td>-9</td>\n      <td>No</td>\n      <td>...</td>\n      <td>17</td>\n      <td>NaN</td>\n      <td>NaN</td>\n      <td>NaN</td>\n      <td>NaN</td>\n      <td>Yes</td>\n      <td>No</td>\n      <td>17_to_25</td>\n      <td>Weekday</td>\n      <td>Day</td>\n    </tr>\n    <tr>\n      <th>52110</th>\n      <td>19895088</td>\n      <td>WA</td>\n      <td>1</td>\n      <td>1989</td>\n      <td>Monday</td>\n      <td>6:00</td>\n      <td>Single</td>\n      <td>No</td>\n      <td>-9</td>\n      <td>No</td>\n      <td>...</td>\n      <td>17</td>\n      <td>NaN</td>\n      <td>NaN</td>\n      <td>NaN</td>\n      <td>NaN</td>\n      <td>Yes</td>\n      <td>No</td>\n      <td>17_to_25</td>\n      <td>Weekday</td>\n      <td>Day</td>\n    </tr>\n  </tbody>\n</table>\n<p>6178 rows × 23 columns</p>\n</div>"
     },
     "metadata": {},
     "execution_count": 14
    }
   ],
   "source": [
    "# filter dataframe by state of WA\n",
    "\n",
    "state = ['WA']\n",
    "\n",
    "fatalaties_df = fatalaties_df.loc[fatalaties_df[\"State\"].isin(state)]\n",
    "fatalaties_df"
   ]
  },
  {
   "cell_type": "code",
   "execution_count": 15,
   "metadata": {},
   "outputs": [
    {
     "output_type": "execute_result",
     "data": {
      "text/plain": [
       "   Crash ID         Road User Age Group\n",
       "0  20215023     Pedal cyclist  40_to_64\n",
       "1  20215024            Driver  40_to_64\n",
       "2  20215004  Motorcycle rider  40_to_64\n",
       "4  20215018  Motorcycle rider  40_to_64\n",
       "5  20215001         Passenger  17_to_25"
      ],
      "text/html": "<div>\n<style scoped>\n    .dataframe tbody tr th:only-of-type {\n        vertical-align: middle;\n    }\n\n    .dataframe tbody tr th {\n        vertical-align: top;\n    }\n\n    .dataframe thead th {\n        text-align: right;\n    }\n</style>\n<table border=\"1\" class=\"dataframe\">\n  <thead>\n    <tr style=\"text-align: right;\">\n      <th></th>\n      <th>Crash ID</th>\n      <th>Road User</th>\n      <th>Age Group</th>\n    </tr>\n  </thead>\n  <tbody>\n    <tr>\n      <th>0</th>\n      <td>20215023</td>\n      <td>Pedal cyclist</td>\n      <td>40_to_64</td>\n    </tr>\n    <tr>\n      <th>1</th>\n      <td>20215024</td>\n      <td>Driver</td>\n      <td>40_to_64</td>\n    </tr>\n    <tr>\n      <th>2</th>\n      <td>20215004</td>\n      <td>Motorcycle rider</td>\n      <td>40_to_64</td>\n    </tr>\n    <tr>\n      <th>4</th>\n      <td>20215018</td>\n      <td>Motorcycle rider</td>\n      <td>40_to_64</td>\n    </tr>\n    <tr>\n      <th>5</th>\n      <td>20215001</td>\n      <td>Passenger</td>\n      <td>17_to_25</td>\n    </tr>\n  </tbody>\n</table>\n</div>"
     },
     "metadata": {},
     "execution_count": 15
    }
   ],
   "source": [
    "# filter dataframe to specific columns\n",
    "\n",
    "new_fatalaties_df = fatalaties_df[['Crash ID', 'Road User', 'Age Group']].copy()\n",
    "new_fatalaties_df.head()"
   ]
  },
  {
   "cell_type": "code",
   "execution_count": 16,
   "metadata": {},
   "outputs": [
    {
     "output_type": "execute_result",
     "data": {
      "text/plain": [
       "   crash_id         road_user age_group\n",
       "0  20215023     Pedal cyclist  40_to_64\n",
       "1  20215024            Driver  40_to_64\n",
       "2  20215004  Motorcycle rider  40_to_64\n",
       "4  20215018  Motorcycle rider  40_to_64\n",
       "5  20215001         Passenger  17_to_25"
      ],
      "text/html": "<div>\n<style scoped>\n    .dataframe tbody tr th:only-of-type {\n        vertical-align: middle;\n    }\n\n    .dataframe tbody tr th {\n        vertical-align: top;\n    }\n\n    .dataframe thead th {\n        text-align: right;\n    }\n</style>\n<table border=\"1\" class=\"dataframe\">\n  <thead>\n    <tr style=\"text-align: right;\">\n      <th></th>\n      <th>crash_id</th>\n      <th>road_user</th>\n      <th>age_group</th>\n    </tr>\n  </thead>\n  <tbody>\n    <tr>\n      <th>0</th>\n      <td>20215023</td>\n      <td>Pedal cyclist</td>\n      <td>40_to_64</td>\n    </tr>\n    <tr>\n      <th>1</th>\n      <td>20215024</td>\n      <td>Driver</td>\n      <td>40_to_64</td>\n    </tr>\n    <tr>\n      <th>2</th>\n      <td>20215004</td>\n      <td>Motorcycle rider</td>\n      <td>40_to_64</td>\n    </tr>\n    <tr>\n      <th>4</th>\n      <td>20215018</td>\n      <td>Motorcycle rider</td>\n      <td>40_to_64</td>\n    </tr>\n    <tr>\n      <th>5</th>\n      <td>20215001</td>\n      <td>Passenger</td>\n      <td>17_to_25</td>\n    </tr>\n  </tbody>\n</table>\n</div>"
     },
     "metadata": {},
     "execution_count": 16
    }
   ],
   "source": [
    "# Rename the column headers\n",
    "new_fatalaties_df = new_fatalaties_df.rename(columns={\"Crash ID\": \"crash_id\",\n",
    "                                                          \"Road User\": \"road_user\",\n",
    "                                                          \"Age Group\": \"age_group\"})\n",
    "\n",
    "# Set index\n",
    "# new_fatalaties_df.set_index(\"id\", inplace=True)\n",
    "\n",
    "new_fatalaties_df.head()"
   ]
  },
  {
   "cell_type": "code",
   "execution_count": 17,
   "metadata": {},
   "outputs": [],
   "source": [
    "# replace for other/-9 and -9 values\n",
    "\n",
    "new_fatalaties_df['road_user'] = new_fatalaties_df['road_user'].replace(['Other/-9'],'Other')\n",
    "\n",
    "new_fatalaties_df['age_group'] = new_fatalaties_df['age_group'].replace(['-9'],'Other')\n",
    "\n",
    "\n"
   ]
  },
  {
   "cell_type": "code",
   "execution_count": 18,
   "metadata": {},
   "outputs": [],
   "source": [
    "# connect to database\n",
    "\n",
    "connection_string = \"postgres:6186@localhost:5432/Road_Fatalaties\"\n",
    "engine = create_engine(f'postgresql://{connection_string}')"
   ]
  },
  {
   "cell_type": "code",
   "execution_count": 19,
   "metadata": {},
   "outputs": [
    {
     "output_type": "execute_result",
     "data": {
      "text/plain": [
       "['fatalaties', 'crashes']"
      ]
     },
     "metadata": {},
     "execution_count": 19
    }
   ],
   "source": [
    "# confirm tables\n",
    "\n",
    "engine.table_names()"
   ]
  },
  {
   "cell_type": "code",
   "execution_count": 24,
   "metadata": {},
   "outputs": [],
   "source": [
    "# use pandas to load dataframe to database\n",
    "\n",
    "new_fatalaties_df.to_sql(name='fatalaties', con=engine, if_exists='append', index=False)"
   ]
  },
  {
   "cell_type": "code",
   "execution_count": 25,
   "metadata": {},
   "outputs": [
    {
     "output_type": "execute_result",
     "data": {
      "text/plain": [
       "   id  crash_id         road_user age_group\n",
       "0   1  20215023     Pedal cyclist  40_to_64\n",
       "1   2  20215024            Driver  40_to_64\n",
       "2   3  20215004  Motorcycle rider  40_to_64\n",
       "3   4  20215018  Motorcycle rider  40_to_64\n",
       "4   5  20215001         Passenger  17_to_25"
      ],
      "text/html": "<div>\n<style scoped>\n    .dataframe tbody tr th:only-of-type {\n        vertical-align: middle;\n    }\n\n    .dataframe tbody tr th {\n        vertical-align: top;\n    }\n\n    .dataframe thead th {\n        text-align: right;\n    }\n</style>\n<table border=\"1\" class=\"dataframe\">\n  <thead>\n    <tr style=\"text-align: right;\">\n      <th></th>\n      <th>id</th>\n      <th>crash_id</th>\n      <th>road_user</th>\n      <th>age_group</th>\n    </tr>\n  </thead>\n  <tbody>\n    <tr>\n      <th>0</th>\n      <td>1</td>\n      <td>20215023</td>\n      <td>Pedal cyclist</td>\n      <td>40_to_64</td>\n    </tr>\n    <tr>\n      <th>1</th>\n      <td>2</td>\n      <td>20215024</td>\n      <td>Driver</td>\n      <td>40_to_64</td>\n    </tr>\n    <tr>\n      <th>2</th>\n      <td>3</td>\n      <td>20215004</td>\n      <td>Motorcycle rider</td>\n      <td>40_to_64</td>\n    </tr>\n    <tr>\n      <th>3</th>\n      <td>4</td>\n      <td>20215018</td>\n      <td>Motorcycle rider</td>\n      <td>40_to_64</td>\n    </tr>\n    <tr>\n      <th>4</th>\n      <td>5</td>\n      <td>20215001</td>\n      <td>Passenger</td>\n      <td>17_to_25</td>\n    </tr>\n  </tbody>\n</table>\n</div>"
     },
     "metadata": {},
     "execution_count": 25
    }
   ],
   "source": [
    "pd.read_sql_query('select * from fatalaties', con=engine).head()"
   ]
  },
  {
   "cell_type": "code",
   "execution_count": null,
   "metadata": {},
   "outputs": [],
   "source": []
  }
 ]
}